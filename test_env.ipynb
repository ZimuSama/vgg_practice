{
 "cells": [
  {
   "cell_type": "code",
   "execution_count": 2,
   "metadata": {},
   "outputs": [
    {
     "name": "stdout",
     "output_type": "stream",
     "text": [
      "gpu计算总时长: 10.0 ms\n"
     ]
    }
   ],
   "source": [
    "import time\n",
    "import torch\n",
    "\n",
    "# 测试gpu计算耗时\n",
    "A = torch.ones(5000, 5000).to('cuda')\n",
    "B = torch.ones(5000, 5000).to('cuda')\n",
    "startTime2 = time.time()\n",
    "for i in range(100):\n",
    "    C = torch.matmul(A, B)\n",
    "endTime2 = time.time()\n",
    "print('gpu计算总时长:', round((endTime2 - startTime2) * 1000, 2), 'ms')\n",
    "\n",
    "# # 测试cpu计算耗时\n",
    "# A = torch.ones(5000, 5000)\n",
    "# B = torch.ones(5000, 5000)\n",
    "# startTime1 = time.time()\n",
    "# for i in range(100):\n",
    "#     C = torch.matmul(A, B)\n",
    "# endTime1 = time.time()\n",
    "# print('cpu计算总时长:', round((endTime1 - startTime1) * 1000, 2), 'ms')\n",
    "torch.cuda.empty_cache()"
   ]
  },
  {
   "cell_type": "code",
   "execution_count": null,
   "metadata": {},
   "outputs": [],
   "source": []
  }
 ],
 "metadata": {
  "kernelspec": {
   "display_name": "pytorch",
   "language": "python",
   "name": "pytorch"
  },
  "language_info": {
   "codemirror_mode": {
    "name": "ipython",
    "version": 3
   },
   "file_extension": ".py",
   "mimetype": "text/x-python",
   "name": "python",
   "nbconvert_exporter": "python",
   "pygments_lexer": "ipython3",
   "version": "3.9.16"
  }
 },
 "nbformat": 4,
 "nbformat_minor": 2
}
